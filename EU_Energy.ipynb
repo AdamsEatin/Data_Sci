{
 "cells": [
  {
   "cell_type": "markdown",
   "metadata": {},
   "source": [
    "<h1>European Energy Insight</h1>\n",
    "\n",
    "The primary goal of this project is to provide an insight into the current usage of renewable energy within the EU and it's member states in addition to recent trends of greenhouse gas emissions.<br>\n",
    "In addition to this we will be investigating the potentially correlative reltationship between a country or regions usage of renewable energy and several factors within the country or regions society.<br><br>"
   ]
  },
  {
   "cell_type": "code",
   "execution_count": 1,
   "metadata": {},
   "outputs": [],
   "source": [
    "import pandas as pd\n",
    "import numpy as np\n",
    "import plotly\n",
    "import plotly.plotly as py\n",
    "import plotly.graph_objs as go\n",
    "from sklearn import linear_model\n",
    "from sklearn.model_selection import train_test_split\n",
    "from scipy.stats.stats import pearsonr  \n",
    "\n",
    "plotly.tools.set_credentials_file(username='VMunt12', api_key='oxHWpnzEydNC1JoTXNqR')"
   ]
  },
  {
   "cell_type": "markdown",
   "metadata": {},
   "source": [
    "<h2>Section One : Oversight</h2><br>\n",
    "In this section we will be investigating the current usage of both renewable energies and the past trends of greenhouse gas emissions.<br>\n",
    "Firstly we will look to investigate the currrent usage of renewable energies in both the entirety of the EU and following that a breakdown of usage based on individual member states."
   ]
  },
  {
   "cell_type": "code",
   "execution_count": 2,
   "metadata": {},
   "outputs": [],
   "source": [
    "hydro_data = pd.read_csv('Datasets/Hydro_Consumption-By_Country.csv')\n",
    "solar_data = pd.read_csv('Datasets/Solar_Consumption-By_Country.csv')\n",
    "thermal_data = pd.read_csv('Datasets/Thermal_Consumption-By_Country.csv')\n",
    "wind_data = pd.read_csv('Datasets/Wind_Consumption-By_Country.csv')"
   ]
  },
  {
   "cell_type": "markdown",
   "metadata": {},
   "source": [
    "After initially intaking the required datasets, we'll effectively clean them by removing any unnecessary data, re-indexing the dataset so that the country/region is the index, replacing any missing values with NaN and then in the event that there are any missing values they will be backfilled."
   ]
  },
  {
   "cell_type": "code",
   "execution_count": 3,
   "metadata": {},
   "outputs": [],
   "source": [
    "def clean_data(dataset):\n",
    "    dataset = dataset[1:29]\n",
    "    dataset = dataset.set_index([\"Unnamed: 0\"])\n",
    "    dataset = dataset.replace(':', np.nan)\n",
    "    dataset = dataset.fillna(method='backfill')\n",
    "    return dataset\n",
    "\n",
    "hydro_data = clean_data(hydro_data)\n",
    "solar_data = clean_data(solar_data)\n",
    "thermal_data = clean_data(thermal_data)\n",
    "wind_data = clean_data(wind_data)"
   ]
  },
  {
   "cell_type": "markdown",
   "metadata": {},
   "source": [
    "After cleaning the data we want to create a dictionary to store the results of using our get_sum() function to tally up the total usage for each of our renewable energy sources."
   ]
  },
  {
   "cell_type": "code",
   "execution_count": 5,
   "metadata": {},
   "outputs": [],
   "source": [
    "def get_sum(data):\n",
    "    col_len = len(list(data.columns))\n",
    "    data_sum = 0 \n",
    "    for index, row in data.iterrows():\n",
    "        data_sum += float(row[col_len-1])     \n",
    "    return data_sum\n",
    "\n",
    "sum_dict = {}\n",
    "sum_dict[\"Hydro\"] = get_sum(hydro_data) \n",
    "sum_dict[\"Solar\"] = get_sum(solar_data)\n",
    "sum_dict[\"Thermal\"] = get_sum(thermal_data)\n",
    "sum_dict[\"Wind\"] = get_sum(wind_data)"
   ]
  },
  {
   "cell_type": "markdown",
   "metadata": {},
   "source": [
    "We'll then split our dict up into two lists, following this we'll graph these lists using Plotly."
   ]
  },
  {
   "cell_type": "code",
   "execution_count": 6,
   "metadata": {},
   "outputs": [],
   "source": [
    "x_vals = []\n",
    "y_vals = []\n",
    "\n",
    "for k, v in sum_dict.items():\n",
    "    x_vals.append(k)\n",
    "    y_vals.append(v)"
   ]
  },
  {
   "cell_type": "code",
   "execution_count": 10,
   "metadata": {},
   "outputs": [
    {
     "data": {
      "text/html": [
       "<iframe id=\"igraph\" scrolling=\"no\" style=\"border:none;\" seamless=\"seamless\" src=\"https://plot.ly/~VMunt/36.embed\" height=\"525px\" width=\"100%\"></iframe>"
      ],
      "text/plain": [
       "<plotly.tools.PlotlyDisplay object>"
      ]
     },
     "execution_count": 10,
     "metadata": {},
     "output_type": "execute_result"
    }
   ],
   "source": [
    "trace1 = go.Bar(x = x_vals, y = y_vals)\n",
    "data = [trace1]\n",
    "layout = go.Layout(title = \"Overall Renewable Energy Usage in the EU - 2016\", \n",
    "                   yaxis=dict(title=\"Thousand' Tonnes of Oil Equivelent\"))\n",
    "fig = dict(data=data, layout=layout)\n",
    "py.iplot(fig, validate=False)"
   ]
  },
  {
   "cell_type": "markdown",
   "metadata": {},
   "source": [
    "From this somewhat basic graph we can see that both Hydro Electric and Wind Power are clear leaders within the EU, with Hydro Electric producing energy equal to over 30 million Tonnes of Oil.<br>\n",
    "Next we'll look to further breakdown these figures into individual countries to see which, if any are leaders within this areas.<br><br>\n",
    "We'll start by importing a fresh series of datasets and cleaning them off just as before."
   ]
  },
  {
   "cell_type": "code",
   "execution_count": 11,
   "metadata": {},
   "outputs": [],
   "source": [
    "hydro_data = pd.read_csv('Datasets/Hydro_Consumption-By_Country.csv')\n",
    "solar_data = pd.read_csv('Datasets/Solar_Consumption-By_Country.csv')\n",
    "thermal_data = pd.read_csv('Datasets/Thermal_Consumption-By_Country.csv')\n",
    "wind_data = pd.read_csv('Datasets/Wind_Consumption-By_Country.csv')\n",
    "\n",
    "def clean_data(dataset):\n",
    "    dataset = dataset[1:29]\n",
    "    dataset = dataset.set_index([\"Unnamed: 0\"])\n",
    "    dataset = dataset.replace(':', np.nan)\n",
    "    dataset = dataset.fillna(method='backfill')\n",
    "    return dataset\n",
    "\n",
    "hydro_data = clean_data(hydro_data)\n",
    "solar_data = clean_data(solar_data)\n",
    "thermal_data = clean_data(thermal_data)\n",
    "wind_data = clean_data(wind_data)"
   ]
  },
  {
   "cell_type": "markdown",
   "metadata": {},
   "source": [
    "Instead of using a single dictionary this time, we'll use a dictionary for each type of renewable energy, each will be used to link each country with it's associated values."
   ]
  },
  {
   "cell_type": "code",
   "execution_count": 12,
   "metadata": {},
   "outputs": [],
   "source": [
    "def each_type(data):\n",
    "    val_dict = {}\n",
    "    col_len = len(list(data.columns))\n",
    "    for index, row in data.iterrows():\n",
    "        val_dict[index] = float(row[col_len-1])\n",
    "    return val_dict\n",
    "\n",
    "hydro_dict = each_type(hydro_data)\n",
    "solar_dict = each_type(solar_data)\n",
    "thermal_dict = each_type(thermal_data)\n",
    "wind_dict = each_type(wind_data)"
   ]
  },
  {
   "cell_type": "markdown",
   "metadata": {},
   "source": [
    "After gathering the required information in our dictionaries, we will use a split_vals() function to split up our dictionary values so that they can be later graphed."
   ]
  },
  {
   "cell_type": "code",
   "execution_count": 13,
   "metadata": {},
   "outputs": [],
   "source": [
    "def split_vals(data, opt):\n",
    "    if(opt == 1):\n",
    "        y_vals = []\n",
    "        for k, v in data.items():\n",
    "            y_vals.append(v)\n",
    "        return y_vals\n",
    "    else:\n",
    "        x_vals = []\n",
    "        y_vals = []\n",
    "        for k, v in data.items():\n",
    "            x_vals.append(k)\n",
    "            y_vals.append(v)\n",
    "        return x_vals, y_vals\n",
    "    \n",
    "x_vals, hy_y_vals = split_vals(hydro_dict, 0)\n",
    "so_y_vals = split_vals(solar_dict, 1)\n",
    "th_y_vals = split_vals(thermal_dict, 1)\n",
    "wi_y_vals = split_vals(wind_dict, 1)"
   ]
  },
  {
   "cell_type": "code",
   "execution_count": 14,
   "metadata": {},
   "outputs": [
    {
     "data": {
      "text/html": [
       "<iframe id=\"igraph\" scrolling=\"no\" style=\"border:none;\" seamless=\"seamless\" src=\"https://plot.ly/~VMunt/38.embed\" height=\"525px\" width=\"100%\"></iframe>"
      ],
      "text/plain": [
       "<plotly.tools.PlotlyDisplay object>"
      ]
     },
     "execution_count": 14,
     "metadata": {},
     "output_type": "execute_result"
    }
   ],
   "source": [
    "trace1 = go.Bar(x = x_vals,\n",
    "                y = hy_y_vals,\n",
    "                name = 'Hydro')\n",
    "\n",
    "trace2 = go.Bar(x = x_vals,\n",
    "                y = so_y_vals,\n",
    "                name = 'Solar')\n",
    "\n",
    "trace3 = go.Bar(x = x_vals,\n",
    "                y = th_y_vals,\n",
    "                name = 'Thermal')\n",
    "\n",
    "trace4 = go.Bar(x = x_vals,\n",
    "                y = wi_y_vals,\n",
    "                name = 'Wind')\n",
    "\n",
    "data = [trace1, trace2, trace3, trace4]\n",
    "\n",
    "layout = go.Layout(title ='Renewable Energy Breakdown per Country - 2016', \n",
    "                   yaxis=dict(title=\"Thousand' Tonnes of Oil Equivelent\"),\n",
    "                  barmode='stack')\n",
    "fig = dict(data=data, layout=layout)\n",
    "py.iplot(fig, validate=False)"
   ]
  },
  {
   "cell_type": "markdown",
   "metadata": {},
   "source": [
    "From looking at the graph it's clear to see that there are clear leaders within the area of renewable energy, with Germany and Spain being ahead of the curve.<br>\n",
    "In Sections Two we will utilise the information gathered in these past two graphs to further investigate potentially correlative relationships and potential future trends<br><br>\n",
    "In the next graph we will aim to investigate the trend of EU Emissions.<br>\n",
    "As with every new graphing we will start by getting a fresh dataset and cleaning it."
   ]
  },
  {
   "cell_type": "code",
   "execution_count": 31,
   "metadata": {},
   "outputs": [],
   "source": [
    "emissions_data = pd.read_csv('Datasets/Emissions_By_Year.csv')"
   ]
  },
  {
   "cell_type": "code",
   "execution_count": 32,
   "metadata": {},
   "outputs": [],
   "source": [
    "def clean_data(dataset):\n",
    "    dataset = dataset[0:29]\n",
    "    dataset = dataset.set_index([\"Unnamed: 0\"])\n",
    "    dataset = dataset.replace(':', np.nan)\n",
    "    dataset = dataset.fillna(method='backfill')\n",
    "    return dataset\n",
    "\n",
    "emissions_data = clean_data(emissions_data)"
   ]
  },
  {
   "cell_type": "markdown",
   "metadata": {},
   "source": [
    "For this graph we will gather a list of the datasets columns, follwed by slicing the row related to the EU out of the dataset and storing it's associated values in a list."
   ]
  },
  {
   "cell_type": "code",
   "execution_count": 33,
   "metadata": {},
   "outputs": [],
   "source": [
    "cols = list(emissions_data.columns)\n",
    "emissions_data = list(emissions_data.loc[\"EU\"])"
   ]
  },
  {
   "cell_type": "markdown",
   "metadata": {},
   "source": [
    "Using this data and the list of columns, we can construct our line graph through Plotly."
   ]
  },
  {
   "cell_type": "code",
   "execution_count": 34,
   "metadata": {},
   "outputs": [
    {
     "data": {
      "text/html": [
       "<iframe id=\"igraph\" scrolling=\"no\" style=\"border:none;\" seamless=\"seamless\" src=\"https://plot.ly/~VMunt/42.embed\" height=\"525px\" width=\"100%\"></iframe>"
      ],
      "text/plain": [
       "<plotly.tools.PlotlyDisplay object>"
      ]
     },
     "execution_count": 34,
     "metadata": {},
     "output_type": "execute_result"
    }
   ],
   "source": [
    "trace1 = go.Scatter(x = cols,\n",
    "                    y = emissions_data,\n",
    "                    mode='lines',\n",
    "                    name = 'EU')\n",
    "\n",
    "data = [trace1]\n",
    "layout = go.Layout(title ='Yearly EU Emissions since 1990', \n",
    "                   yaxis=dict(title=\"Thousand' Tonnes of Oil Equivelent\"))\n",
    "fig = dict(data=data, layout=layout)\n",
    "py.iplot(fig, validate=False)"
   ]
  },
  {
   "cell_type": "markdown",
   "metadata": {},
   "source": [
    "As would be expected, as time has gone on the yearly emissions have steadily dropped for the EU as a whole. However, as we saw in the previous graph there were clear leaders in the area of emissions reduction, as such we will investigate which members states have been the most successful in reducing their emissions since 1990.<br>\n",
    "As usual we will start off with a fresh and clean dataset."
   ]
  },
  {
   "cell_type": "code",
   "execution_count": 35,
   "metadata": {},
   "outputs": [],
   "source": [
    "def clean_data(dataset):\n",
    "    dataset = dataset[1:29]\n",
    "    dataset = dataset.set_index([\"Unnamed: 0\"])\n",
    "    dataset = dataset.replace(':', np.nan)\n",
    "    dataset = dataset.fillna(method='backfill')\n",
    "    return dataset\n",
    "\n",
    "emissions_data = pd.read_csv('Datasets/Emissions_By_Year.csv')\n",
    "emissions_data = clean_data(emissions_data)"
   ]
  },
  {
   "cell_type": "markdown",
   "metadata": {},
   "source": [
    "As with the previous graph we will get a list of columns, however this time we're instead using it as a means to find the final entry within the dataset.<br> \n",
    "We'll use this value aswell as the datset in the get_diff() function to find the difference between the emission in 1990 and the most recent emissions data for each country."
   ]
  },
  {
   "cell_type": "code",
   "execution_count": 36,
   "metadata": {},
   "outputs": [],
   "source": [
    "def get_diff(data, pos):\n",
    "    x_vals = []\n",
    "    y_vals = []\n",
    "    for index, row in data.iterrows():\n",
    "        x_vals.append(index)\n",
    "        diff = float(row[pos-1]) - float(row[0])\n",
    "        y_vals.append(diff)\n",
    "        \n",
    "    return x_vals, y_vals\n",
    "\n",
    "col_len = len(list(emissions_data.columns))\n",
    "x_vals, y_vals = get_diff(emissions_data, col_len)"
   ]
  },
  {
   "cell_type": "code",
   "execution_count": 37,
   "metadata": {},
   "outputs": [
    {
     "data": {
      "text/html": [
       "<iframe id=\"igraph\" scrolling=\"no\" style=\"border:none;\" seamless=\"seamless\" src=\"https://plot.ly/~VMunt/44.embed\" height=\"525px\" width=\"100%\"></iframe>"
      ],
      "text/plain": [
       "<plotly.tools.PlotlyDisplay object>"
      ]
     },
     "execution_count": 37,
     "metadata": {},
     "output_type": "execute_result"
    }
   ],
   "source": [
    "trace1 = go.Bar(x = x_vals,\n",
    "                y = y_vals)\n",
    "\n",
    "data = [trace1]\n",
    "layout = go.Layout(title ='Change in Emissions since 1990', \n",
    "                   yaxis=dict(title=\"Thousand' Tonnes of Oil Equivelent\"))\n",
    "fig = dict(data=data, layout=layout)\n",
    "py.iplot(fig, validate=False)"
   ]
  },
  {
   "cell_type": "markdown",
   "metadata": {},
   "source": [
    "Interestingly we see that despite seeing that Spain was one of the leaders in renewable energy they still have a higher emission rate than they did in 1990. Additionally, the United Kingdom has had a drastic reduction in emissions almost on par with Germany, despite only having roughly half of Germany's renewable energy use."
   ]
  },
  {
   "cell_type": "markdown",
   "metadata": {},
   "source": [
    "<h2>Section Two : Insight</h2><br>\n",
    "Throughout this section we will investigate the potentially correlative relationship between a regions usage of renewable energy and several other factors.<br>\n",
    "Within this section we'll perform the investigations on two different regions, those being;<br>\n",
    "<ul>\n",
    "  <li>The EU</li>\n",
    "  <li>Germany</li>\n",
    "</ul>\n",
    "<br><br>\n",
    "\n",
    "<h3>Percentage of GDP spent on Research and Development</h3>\n",
    "<h4>EU</h4>\n",
    "Firstly we need to import and clean our datasets, following this we'll clean and prepare our data for graphing."
   ]
  },
  {
   "cell_type": "code",
   "execution_count": 38,
   "metadata": {},
   "outputs": [],
   "source": [
    "renewable_data = pd.read_csv('Datasets/Renewable_Consumption-By_Country.csv')\n",
    "rnd_data = pd.read_csv('Datasets/R&D-By_Country.csv')"
   ]
  },
  {
   "cell_type": "code",
   "execution_count": 39,
   "metadata": {},
   "outputs": [],
   "source": [
    "def clean_data(dataset):\n",
    "    dataset = dataset[0:29]\n",
    "    dataset = dataset.set_index([\"Unnamed: 0\"])\n",
    "    dataset = dataset.replace(':', np.nan)\n",
    "    dataset = dataset.fillna(method='backfill')\n",
    "    return dataset\n",
    "\n",
    "renewable_data = clean_data(renewable_data)\n",
    "rnd_data = clean_data(rnd_data)"
   ]
  },
  {
   "cell_type": "code",
   "execution_count": 41,
   "metadata": {},
   "outputs": [],
   "source": [
    "cols = list(renewable_data.columns)\n",
    "rnd_data = rnd_data[cols]\n",
    "\n",
    "x_vals = []\n",
    "for item in cols:\n",
    "    x_vals.append(int(item))"
   ]
  },
  {
   "cell_type": "markdown",
   "metadata": {},
   "source": [
    "For the preparation of the data, we firstly retrieve the selected region / countrys row from the dataset and based on whether or not the div parameter is set to True or False, these values will either be divided to reduce the number to something easier to work with, or else the values from the supplied data will simply be appended to a list.<br>\n",
    "In this case we're dividing the data down to smaller numbers as to make the graph easier to interpret."
   ]
  },
  {
   "cell_type": "code",
   "execution_count": 42,
   "metadata": {},
   "outputs": [],
   "source": [
    "def data_prep(country, df, div):\n",
    "    df_vals = pd.DataFrame(data=df.loc[country])\n",
    "    df_vals = df_vals.transpose()\n",
    "    vals = []\n",
    "    \n",
    "    if(div == True):\n",
    "        for index, row in df_vals.iterrows():\n",
    "            for item in row:\n",
    "                vals.append((float(item)/100000))\n",
    "        return vals\n",
    "    else:\n",
    "        for index, row in df_vals.iterrows():\n",
    "            for item in row:\n",
    "                vals.append(float(item))\n",
    "        return vals\n",
    "    \n",
    "ren_vals = data_prep(\"EU\", renewable_data, True)\n",
    "rnd_vals = data_prep(\"EU\", rnd_data, False)"
   ]
  },
  {
   "cell_type": "markdown",
   "metadata": {},
   "source": [
    "With the data successfully retrieved and prepared we can move on to graphing."
   ]
  },
  {
   "cell_type": "code",
   "execution_count": 43,
   "metadata": {},
   "outputs": [
    {
     "data": {
      "text/html": [
       "<iframe id=\"igraph\" scrolling=\"no\" style=\"border:none;\" seamless=\"seamless\" src=\"https://plot.ly/~VMunt/46.embed\" height=\"525px\" width=\"100%\"></iframe>"
      ],
      "text/plain": [
       "<plotly.tools.PlotlyDisplay object>"
      ]
     },
     "execution_count": 43,
     "metadata": {},
     "output_type": "execute_result"
    }
   ],
   "source": [
    "trace1 = go.Scatter(\n",
    "            x = x_vals,\n",
    "            y = rnd_vals,\n",
    "            mode='lines+markers',\n",
    "            name = '{} - R&D'.format(\"EU\"))\n",
    "    \n",
    "trace2 = go.Scatter(\n",
    "            x = x_vals,\n",
    "            y = ren_vals,\n",
    "            mode='lines+markers',\n",
    "            name = '{} - TTOE'.format(\"EU\"))\n",
    "\n",
    "data = [trace1, trace2]\n",
    "layout = go.Layout(title ='Renewable Energy vs Percentage GDP spent on R&D - EU')\n",
    "fig = dict(data=data, layout=layout)\n",
    "py.iplot(fig, validate=False)"
   ]
  },
  {
   "cell_type": "markdown",
   "metadata": {},
   "source": [
    "*TTOE = Trillion Tonnes of Oil Equivelant<br><br>\n",
    "From looking at the graph it certainly appears that there is a correlation between the EU's overall spending on R&D and the renewable energy consumption.<br>\n",
    "Following this we'll calculate a Pearson correlation between two lists of the corresponding values."
   ]
  },
  {
   "cell_type": "code",
   "execution_count": 44,
   "metadata": {},
   "outputs": [
    {
     "name": "stdout",
     "output_type": "stream",
     "text": [
      "(0.9321142924348524, 8.555900858960648e-05)\n"
     ]
    }
   ],
   "source": [
    "ren_list = list(ren_vals)\n",
    "rnd_list = list(rnd_vals)\n",
    "print(pearsonr(ren_list, rnd_list))"
   ]
  },
  {
   "cell_type": "markdown",
   "metadata": {},
   "source": [
    "<h4>Germany</h4>"
   ]
  },
  {
   "cell_type": "code",
   "execution_count": 46,
   "metadata": {},
   "outputs": [],
   "source": [
    "renewable_data = pd.read_csv('Datasets/Renewable_Consumption-By_Country.csv')\n",
    "rnd_data = pd.read_csv('Datasets/R&D-By_Country.csv')\n",
    "\n",
    "def clean_data(dataset):\n",
    "    dataset = dataset[0:29]\n",
    "    dataset = dataset.set_index([\"Unnamed: 0\"])\n",
    "    dataset = dataset.replace(':', np.nan)\n",
    "    dataset = dataset.fillna(method='backfill')\n",
    "    return dataset\n",
    "\n",
    "renewable_data = clean_data(renewable_data)\n",
    "rnd_data = clean_data(rnd_data)\n",
    "\n",
    "cols = list(renewable_data.columns)\n",
    "rnd_data = rnd_data[cols]\n",
    "\n",
    "x_vals = []\n",
    "for item in cols:\n",
    "    x_vals.append(int(item))"
   ]
  },
  {
   "cell_type": "markdown",
   "metadata": {},
   "source": [
    "As we're switching from the entire EU to a single country, we can reduce the amount we have to divide down by to reach a suitable scale for the graph."
   ]
  },
  {
   "cell_type": "code",
   "execution_count": 48,
   "metadata": {},
   "outputs": [
    {
     "data": {
      "text/html": [
       "<iframe id=\"igraph\" scrolling=\"no\" style=\"border:none;\" seamless=\"seamless\" src=\"https://plot.ly/~VMunt/50.embed\" height=\"525px\" width=\"100%\"></iframe>"
      ],
      "text/plain": [
       "<plotly.tools.PlotlyDisplay object>"
      ]
     },
     "execution_count": 48,
     "metadata": {},
     "output_type": "execute_result"
    }
   ],
   "source": [
    "def data_prep(country, df, div):\n",
    "    df_vals = pd.DataFrame(data=df.loc[country])\n",
    "    df_vals = df_vals.transpose()\n",
    "    vals = []\n",
    "    \n",
    "    if(div == True):\n",
    "        for index, row in df_vals.iterrows():\n",
    "            for item in row:\n",
    "                vals.append((float(item)/10000))\n",
    "        return vals\n",
    "    else:\n",
    "        for index, row in df_vals.iterrows():\n",
    "            for item in row:\n",
    "                vals.append(float(item))\n",
    "        return vals\n",
    "    \n",
    "ren_vals = data_prep(\"Germany\", renewable_data, True)\n",
    "rnd_vals = data_prep(\"Germany\", rnd_data, False)\n",
    "\n",
    "trace1 = go.Scatter(\n",
    "            x = x_vals,\n",
    "            y = rnd_vals,\n",
    "            mode='lines+markers',\n",
    "            name = '{} - R&D'.format(\"Germany\"))\n",
    "    \n",
    "trace2 = go.Scatter(\n",
    "            x = x_vals,\n",
    "            y = ren_vals,\n",
    "            mode='lines+markers',\n",
    "            name = '{} - MTOE'.format(\"Germany\"))\n",
    "\n",
    "data = [trace1, trace2]\n",
    "layout = go.Layout(title ='Renewable Energy vs Percentage GDP spent on R&D - Germany')\n",
    "fig = dict(data=data, layout=layout)\n",
    "py.iplot(fig, validate=False)"
   ]
  },
  {
   "cell_type": "markdown",
   "metadata": {},
   "source": [
    "*MTOE = Million tonnes of Oil Equivelant<br><br>\n",
    "As before there seems to be a reasonable correlation between investments in R&D and the improvement in usage of renewable energy usage."
   ]
  },
  {
   "cell_type": "code",
   "execution_count": 49,
   "metadata": {},
   "outputs": [
    {
     "name": "stdout",
     "output_type": "stream",
     "text": [
      "(0.8916032490708725, 0.0005289350672805719)\n"
     ]
    }
   ],
   "source": [
    "ren_list = list(ren_vals)\n",
    "rnd_list = list(rnd_vals)\n",
    "print(pearsonr(ren_list, rnd_list))"
   ]
  },
  {
   "cell_type": "markdown",
   "metadata": {},
   "source": [
    "<br><h3>Yearly Emissions</h3>\n",
    "<h4>EU</h4>"
   ]
  },
  {
   "cell_type": "code",
   "execution_count": 83,
   "metadata": {},
   "outputs": [],
   "source": [
    "def clean_data(dataset):\n",
    "    dataset = dataset[0:29]\n",
    "    dataset = dataset.set_index([\"Unnamed: 0\"])\n",
    "    dataset = dataset.replace(':', np.nan)\n",
    "    dataset = dataset.fillna(method='backfill')\n",
    "    return dataset\n",
    "\n",
    "renewable_data = pd.read_csv('Datasets/Renewable_Consumption-By_Country.csv')\n",
    "emissions_data = pd.read_csv('Datasets/Emissions_By_Year.csv')\n",
    "renewable_data = clean_data(renewable_data)\n",
    "emissions_data = clean_data(emissions_data)\n"
   ]
  },
  {
   "cell_type": "code",
   "execution_count": 84,
   "metadata": {},
   "outputs": [],
   "source": [
    "cols = list(renewable_data.columns)[:-1]\n",
    "emissions_data = emissions_data[cols]\n",
    "x_vals = []\n",
    "for item in cols:\n",
    "    x_vals.append(int(item))"
   ]
  },
  {
   "cell_type": "code",
   "execution_count": 85,
   "metadata": {},
   "outputs": [],
   "source": [
    "def data_prep(country, df, div):\n",
    "    df_vals = pd.DataFrame(data=df.loc[country])\n",
    "    df_vals = df_vals.transpose()\n",
    "    vals = []\n",
    "    \n",
    "    if(div == True):\n",
    "        for index, row in df_vals.iterrows():\n",
    "            for item in row:\n",
    "                vals.append(float(item)/1000)\n",
    "        return vals\n",
    "    \n",
    "    else:\n",
    "        for index, row in df_vals.iterrows():\n",
    "            for item in row:\n",
    "                vals.append(int(item))\n",
    "        return vals\n",
    "    \n",
    "ren_vals = data_prep(\"EU\", renewable_data, True)\n",
    "emissions_vals = data_prep(\"EU\" , emissions_data, True)    "
   ]
  },
  {
   "cell_type": "code",
   "execution_count": 86,
   "metadata": {},
   "outputs": [
    {
     "data": {
      "text/html": [
       "<iframe id=\"igraph\" scrolling=\"no\" style=\"border:none;\" seamless=\"seamless\" src=\"https://plot.ly/~VMunt/66.embed\" height=\"525px\" width=\"100%\"></iframe>"
      ],
      "text/plain": [
       "<plotly.tools.PlotlyDisplay object>"
      ]
     },
     "execution_count": 86,
     "metadata": {},
     "output_type": "execute_result"
    }
   ],
   "source": [
    "trace1 = go.Scatter(\n",
    "            x = x_vals,\n",
    "            y = emissions_vals,\n",
    "            mode='lines+markers',\n",
    "            name = '{} - Emissions TTOE'.format(\"EU\"))\n",
    "    \n",
    "trace2 = go.Scatter(\n",
    "            x = x_vals,\n",
    "            y = ren_vals,\n",
    "            mode='lines+markers',\n",
    "            name = '{} - Renewable MTOE'.format(\"EU\"))\n",
    "    \n",
    "data = [trace1, trace2]\n",
    "layout = go.Layout(title ='Renewable Energy vs Yearly Emissions - EU')\n",
    "fig = dict(data=data, layout=layout)\n",
    "py.iplot(fig, validate=False)"
   ]
  },
  {
   "cell_type": "code",
   "execution_count": 87,
   "metadata": {},
   "outputs": [
    {
     "name": "stdout",
     "output_type": "stream",
     "text": [
      "(-0.17034137523022694, 0.6380033688097215)\n"
     ]
    }
   ],
   "source": [
    "ren_list = list(ren_vals)\n",
    "rnd_list = list(rnd_vals)\n",
    "print(pearsonr(ren_list, rnd_list))"
   ]
  },
  {
   "cell_type": "markdown",
   "metadata": {},
   "source": [
    "<h4>Germany</h4>"
   ]
  },
  {
   "cell_type": "code",
   "execution_count": 95,
   "metadata": {},
   "outputs": [],
   "source": [
    "def clean_data(dataset):\n",
    "    dataset = dataset[0:29]\n",
    "    dataset = dataset.set_index([\"Unnamed: 0\"])\n",
    "    dataset = dataset.replace(':', np.nan)\n",
    "    dataset = dataset.fillna(method='backfill')\n",
    "    return dataset\n",
    "\n",
    "renewable_data = pd.read_csv('Datasets/Renewable_Consumption-By_Country.csv')\n",
    "emissions_data = pd.read_csv('Datasets/Emissions_By_Year.csv')\n",
    "renewable_data = clean_data(renewable_data)\n",
    "emissions_data = clean_data(emissions_data)"
   ]
  },
  {
   "cell_type": "code",
   "execution_count": 96,
   "metadata": {},
   "outputs": [],
   "source": [
    "cols = list(renewable_data.columns)[:-1]\n",
    "emissions_data = emissions_data[cols]\n",
    "x_vals = []\n",
    "for item in cols:\n",
    "    x_vals.append(int(item))"
   ]
  },
  {
   "cell_type": "code",
   "execution_count": 97,
   "metadata": {},
   "outputs": [],
   "source": [
    "def data_prep(country, df, div):\n",
    "    df_vals = pd.DataFrame(data=df.loc[country])\n",
    "    df_vals = df_vals.transpose()\n",
    "    vals = []\n",
    "    \n",
    "    if(div == True):\n",
    "        for index, row in df_vals.iterrows():\n",
    "            for item in row:\n",
    "                vals.append(float(item)/1000)\n",
    "        return vals\n",
    "    \n",
    "    else:\n",
    "        for index, row in df_vals.iterrows():\n",
    "            for item in row:\n",
    "                vals.append(int(item))\n",
    "        return vals\n",
    "    \n",
    "ren_vals = data_prep(\"Germany\", renewable_data, True)\n",
    "emissions_vals = data_prep(\"Germany\" , emissions_data, False)    "
   ]
  },
  {
   "cell_type": "code",
   "execution_count": 98,
   "metadata": {},
   "outputs": [
    {
     "data": {
      "text/html": [
       "<iframe id=\"igraph\" scrolling=\"no\" style=\"border:none;\" seamless=\"seamless\" src=\"https://plot.ly/~VMunt/70.embed\" height=\"525px\" width=\"100%\"></iframe>"
      ],
      "text/plain": [
       "<plotly.tools.PlotlyDisplay object>"
      ]
     },
     "execution_count": 98,
     "metadata": {},
     "output_type": "execute_result"
    }
   ],
   "source": [
    "trace1 = go.Scatter(\n",
    "            x = x_vals,\n",
    "            y = emissions_vals,\n",
    "            mode='lines+markers',\n",
    "            name = '{} - Emissions TTOE'.format(\"Germany\"))\n",
    "    \n",
    "trace2 = go.Scatter(\n",
    "            x = x_vals,\n",
    "            y = ren_vals,\n",
    "            mode='lines+markers',\n",
    "            name = '{} - Renewable MTOE'.format(\"Germany\"))\n",
    "    \n",
    "data = [trace1, trace2]\n",
    "layout = go.Layout(title ='Renewable Energy vs Yearly Emissions - Germany')\n",
    "fig = dict(data=data, layout=layout)\n",
    "py.iplot(fig, validate=False)"
   ]
  },
  {
   "cell_type": "code",
   "execution_count": 99,
   "metadata": {},
   "outputs": [
    {
     "name": "stdout",
     "output_type": "stream",
     "text": [
      "(-0.33222637641569275, 0.3482962983586983)\n"
     ]
    }
   ],
   "source": [
    "ren_list = list(ren_vals)\n",
    "rnd_list = list(rnd_vals)\n",
    "print(pearsonr(ren_list, rnd_list))"
   ]
  },
  {
   "cell_type": "markdown",
   "metadata": {},
   "source": [
    "<h3>Mean Income</h3>\n",
    "<h4>EU</h4>"
   ]
  },
  {
   "cell_type": "code",
   "execution_count": 101,
   "metadata": {},
   "outputs": [],
   "source": [
    "def clean_data(dataset):\n",
    "    dataset = dataset[0:29]\n",
    "    dataset = dataset.set_index([\"Unnamed: 0\"])\n",
    "    dataset = dataset.replace(':', np.nan)\n",
    "    dataset = dataset.fillna(method='backfill')\n",
    "    return dataset\n",
    "\n",
    "renewable_data = pd.read_csv('Datasets/Renewable_Consumption-By_Country.csv')\n",
    "income_data = pd.read_csv('Datasets/Mean_Income-By_Country.csv')\n",
    "renewable_data = clean_data(renewable_data)\n",
    "income_data = clean_data(income_data)"
   ]
  },
  {
   "cell_type": "code",
   "execution_count": 102,
   "metadata": {},
   "outputs": [],
   "source": [
    "cols = list(income_data.columns)[:-1]\n",
    "renewable_data = renewable_data[cols]\n",
    "income_data = income_data[cols]"
   ]
  },
  {
   "cell_type": "code",
   "execution_count": 103,
   "metadata": {},
   "outputs": [],
   "source": [
    "for item in cols:\n",
    "    income_data[item] = income_data[item].str.replace(\",\",\"\").astype(float)\n",
    "\n",
    "x_vals = []\n",
    "for item in cols:\n",
    "    x_vals.append(int(item))"
   ]
  },
  {
   "cell_type": "code",
   "execution_count": 105,
   "metadata": {},
   "outputs": [],
   "source": [
    "def data_prep(country, df, div):\n",
    "    df_vals = pd.DataFrame(data=df.loc[country])\n",
    "    df_vals = df_vals.transpose()\n",
    "\n",
    "    vals = []\n",
    "    \n",
    "    if(div == True):\n",
    "        for index, row in df_vals.iterrows():\n",
    "            for item in row:\n",
    "                vals.append(float(item)/10000)\n",
    "        return vals\n",
    "    \n",
    "    else:\n",
    "        for index, row in df_vals.iterrows():\n",
    "            for item in row:\n",
    "                vals.append(float(item)/10000)\n",
    "        return vals\n",
    "    \n",
    "ren_vals = data_prep(\"EU\", renewable_data, True)\n",
    "income_data = data_prep(\"EU\" , income_data, False)"
   ]
  },
  {
   "cell_type": "code",
   "execution_count": 106,
   "metadata": {},
   "outputs": [
    {
     "data": {
      "text/html": [
       "<iframe id=\"igraph\" scrolling=\"no\" style=\"border:none;\" seamless=\"seamless\" src=\"https://plot.ly/~VMunt/72.embed\" height=\"525px\" width=\"100%\"></iframe>"
      ],
      "text/plain": [
       "<plotly.tools.PlotlyDisplay object>"
      ]
     },
     "execution_count": 106,
     "metadata": {},
     "output_type": "execute_result"
    }
   ],
   "source": [
    "trace1 = go.Scatter(\n",
    "            x = x_vals,\n",
    "            y = income_data,\n",
    "            mode='lines+markers',\n",
    "            name = '{} - Mean Income in Thousand Euros'.format(\"EU\"))\n",
    "    \n",
    "trace2 = go.Scatter(\n",
    "            x = x_vals,\n",
    "            y = ren_vals,\n",
    "            mode='lines+markers',\n",
    "            name = '{} - TTOE'.format(\"EU\"))\n",
    "\n",
    "data = [trace1, trace2]\n",
    "layout = go.Layout(title ='Renewable Energy vs Mean Income - EU')\n",
    "fig = dict(data=data, layout=layout)\n",
    "py.iplot(fig, validate=False)"
   ]
  },
  {
   "cell_type": "markdown",
   "metadata": {},
   "source": [
    "<h4>Germany<h4>"
   ]
  },
  {
   "cell_type": "code",
   "execution_count": 108,
   "metadata": {},
   "outputs": [],
   "source": [
    "def clean_data(dataset):\n",
    "    dataset = dataset[0:29]\n",
    "    dataset = dataset.set_index([\"Unnamed: 0\"])\n",
    "    dataset = dataset.replace(':', np.nan)\n",
    "    dataset = dataset.fillna(method='backfill')\n",
    "    return dataset\n",
    "\n",
    "renewable_data = pd.read_csv('Datasets/Renewable_Consumption-By_Country.csv')\n",
    "income_data = pd.read_csv('Datasets/Mean_Income-By_Country.csv')\n",
    "renewable_data = clean_data(renewable_data)\n",
    "income_data = clean_data(income_data)"
   ]
  },
  {
   "cell_type": "code",
   "execution_count": 109,
   "metadata": {},
   "outputs": [],
   "source": [
    "cols = list(income_data.columns)[:-1]\n",
    "renewable_data = renewable_data[cols]\n",
    "income_data = income_data[cols]"
   ]
  },
  {
   "cell_type": "code",
   "execution_count": 110,
   "metadata": {},
   "outputs": [],
   "source": [
    "for item in cols:\n",
    "    income_data[item] = income_data[item].str.replace(\",\",\"\").astype(float)\n",
    "\n",
    "x_vals = []\n",
    "for item in cols:\n",
    "    x_vals.append(int(item))"
   ]
  },
  {
   "cell_type": "code",
   "execution_count": 111,
   "metadata": {},
   "outputs": [],
   "source": [
    "def data_prep(country, df, div):\n",
    "    df_vals = pd.DataFrame(data=df.loc[country])\n",
    "    df_vals = df_vals.transpose()\n",
    "\n",
    "    vals = []\n",
    "    \n",
    "    if(div == True):\n",
    "        for index, row in df_vals.iterrows():\n",
    "            for item in row:\n",
    "                vals.append(float(item)/1000)\n",
    "        return vals\n",
    "    \n",
    "    else:\n",
    "        for index, row in df_vals.iterrows():\n",
    "            for item in row:\n",
    "                vals.append(float(item)/1000)\n",
    "        return vals\n",
    "    \n",
    "ren_vals = data_prep(\"Germany\", renewable_data, True)\n",
    "income_data = data_prep(\"Germany\" , income_data, False)"
   ]
  },
  {
   "cell_type": "code",
   "execution_count": 115,
   "metadata": {},
   "outputs": [],
   "source": [
    "plotly.tools.set_credentials_file(username='VMunt12', api_key='oxHWpnzEydNC1JoTXNqR')"
   ]
  },
  {
   "cell_type": "code",
   "execution_count": 116,
   "metadata": {},
   "outputs": [
    {
     "name": "stdout",
     "output_type": "stream",
     "text": [
      "High five! You successfully sent some data to your account on plotly. View your plot in your browser at https://plot.ly/~Vmunt12/0 or inside your plot.ly account where it is named 'plot from API'\n"
     ]
    },
    {
     "data": {
      "text/html": [
       "<iframe id=\"igraph\" scrolling=\"no\" style=\"border:none;\" seamless=\"seamless\" src=\"https://plot.ly/~Vmunt12/0.embed\" height=\"525px\" width=\"100%\"></iframe>"
      ],
      "text/plain": [
       "<plotly.tools.PlotlyDisplay object>"
      ]
     },
     "execution_count": 116,
     "metadata": {},
     "output_type": "execute_result"
    }
   ],
   "source": [
    "trace1 = go.Scatter(\n",
    "            x = x_vals,\n",
    "            y = income_data,\n",
    "            mode='lines+markers',\n",
    "            name = '{} - Mean Income in Thousand Euros'.format(\"Germany\"))\n",
    "    \n",
    "trace2 = go.Scatter(\n",
    "            x = x_vals,\n",
    "            y = ren_vals,\n",
    "            mode='lines+markers',\n",
    "            name = '{} - TOE'.format(\"Germany\"))\n",
    "\n",
    "data = [trace1, trace2]\n",
    "layout = go.Layout(title ='Renewable Energy vs Mean Income - Germany')\n",
    "fig = dict(data=data, layout=layout)\n",
    "py.iplot(fig, validate=False)"
   ]
  },
  {
   "cell_type": "markdown",
   "metadata": {},
   "source": [
    "While there does appear to be a slight correlation between Mean Income and Usage of renewable energy in Germany, without more data it could quite simply be a case of the mean income raising as the country developes further.<br> \n",
    "While the data provides and interesting theory without further data to properly test unfortunately it will have to be ruled as inconclusive."
   ]
  },
  {
   "cell_type": "markdown",
   "metadata": {},
   "source": [
    "<h2>Section Three : Linear Regression</h2><br>\n",
    "Throughout this section we will attempt to predict the future values for both yearly emissions and usage of renewable energy using Linear Regression models based on the previous values supplied for the EU.\n",
    "\n",
    "\n",
    "<h3>Yearly Emissions</h3>"
   ]
  },
  {
   "cell_type": "code",
   "execution_count": 118,
   "metadata": {},
   "outputs": [],
   "source": [
    "def clean_data(dataset):\n",
    "    dataset = dataset[0:29]\n",
    "    dataset = dataset.set_index([\"Unnamed: 0\"])\n",
    "    dataset = dataset.replace(':', np.nan)\n",
    "    dataset = dataset.fillna(method='backfill')\n",
    "    return dataset\n",
    "\n",
    "emissions_data = pd.read_csv('Datasets/Emissions_By_Year.csv')\n",
    "emissions_data = clean_data(emissions_data)\n",
    "renewable_data = pd.read_csv('Datasets/Renewable_Consumption-By_Country.csv')\n",
    "renewable_data = clean_data(renewable_data)"
   ]
  },
  {
   "cell_type": "markdown",
   "metadata": {},
   "source": [
    "After getting the datasets and cleaning them we need to get subsections of each so that the years accurately match up. This is done by slicing  the list of columns and then creating a new intance of the dataframe using these sliced columns"
   ]
  },
  {
   "cell_type": "code",
   "execution_count": 119,
   "metadata": {},
   "outputs": [],
   "source": [
    "emissions_cols = list(emissions_data.columns)[17:]\n",
    "renewable_cols = list(renewable_data.columns)[:-1]\n",
    "emissions_data = emissions_data[emissions_cols]\n",
    "renewable_data = renewable_data[renewable_cols]"
   ]
  },
  {
   "cell_type": "markdown",
   "metadata": {},
   "source": [
    "After creating the new dataframes we need to turn them into arrays and then reshape them so they can be utilised by the regression model. This is done by selecting the values from the dataset which returns an nd array, which we then reshape into a 2D Array."
   ]
  },
  {
   "cell_type": "code",
   "execution_count": 121,
   "metadata": {},
   "outputs": [],
   "source": [
    "emis_list = emissions_data.loc[\"EU\"].values\n",
    "emis_list = emis_list.reshape(-1, 1)\n",
    "rene_list = renewable_data.loc[\"EU\"].values\n",
    "rene_list = rene_list.astype(np.float)\n",
    "rene_list = rene_list.reshape(-1, 1)"
   ]
  },
  {
   "cell_type": "markdown",
   "metadata": {},
   "source": [
    "Following this we split our data into training and testing sets. We set the split_size to 0.40 because of our lack of data any less would only produce two to three test points."
   ]
  },
  {
   "cell_type": "code",
   "execution_count": 124,
   "metadata": {},
   "outputs": [],
   "source": [
    "X_train, X_test, y_train, y_test = train_test_split(rene_list, emis_list, test_size=0.40)"
   ]
  },
  {
   "cell_type": "markdown",
   "metadata": {},
   "source": [
    "Now we select the model, fit the training data and generate our predictions for our Y value, which in this case is Yearly Emissions"
   ]
  },
  {
   "cell_type": "code",
   "execution_count": 125,
   "metadata": {},
   "outputs": [],
   "source": [
    "model = linear_model.LinearRegression()\n",
    "model.fit(X_train, y_train)\n",
    "prediction = model.predict(X_test)"
   ]
  },
  {
   "cell_type": "markdown",
   "metadata": {},
   "source": [
    "We can now take our prediction and the testing data and graph the result to observe the predicted course."
   ]
  },
  {
   "cell_type": "code",
   "execution_count": 130,
   "metadata": {},
   "outputs": [
    {
     "data": {
      "text/html": [
       "<iframe id=\"igraph\" scrolling=\"no\" style=\"border:none;\" seamless=\"seamless\" src=\"https://plot.ly/~Vmunt12/2.embed\" height=\"525px\" width=\"100%\"></iframe>"
      ],
      "text/plain": [
       "<plotly.tools.PlotlyDisplay object>"
      ]
     },
     "execution_count": 130,
     "metadata": {},
     "output_type": "execute_result"
    }
   ],
   "source": [
    "trace1 = go.Scatter(\n",
    "                x = X_test,\n",
    "                y = y_test,\n",
    "                mode='markers',\n",
    "                name = '{} - Test Values'.format(\"EU\"))\n",
    "        \n",
    "trace2 = go.Scatter(\n",
    "                x = X_test,\n",
    "                y = prediction,\n",
    "                mode='lines',\n",
    "                name = '{} - Predictions'.format(\"EU\"))\n",
    "\n",
    "    \n",
    "data = [trace1, trace2]\n",
    "layout = go.Layout(title ='Predicted future Emissions - EU', \n",
    "                   xaxis=dict(title=\"Renewable Energy Consumption\"),\n",
    "                   yaxis=dict(title=\"Thousand' Tonnes of Oil Equivelent\"))\n",
    "\n",
    "fig = dict(data=data, layout=layout)\n",
    "py.iplot(fig, validate=False)"
   ]
  },
  {
   "cell_type": "markdown",
   "metadata": {},
   "source": [
    "<h3>Renewable Energy Usage</h3>"
   ]
  },
  {
   "cell_type": "markdown",
   "metadata": {},
   "source": [
    "The process is virtually the same as the previous prediction, as such I wont be commenting each step."
   ]
  },
  {
   "cell_type": "code",
   "execution_count": 134,
   "metadata": {},
   "outputs": [],
   "source": [
    "def clean_data(dataset):\n",
    "    dataset = dataset[0:29]\n",
    "    dataset = dataset.set_index([\"Unnamed: 0\"])\n",
    "    dataset = dataset.replace(':', np.nan)\n",
    "    dataset = dataset.fillna(method='backfill')\n",
    "    return dataset\n",
    "\n",
    "rnd_data = pd.read_csv('Datasets/R&D-By_Country.csv')\n",
    "rnd_data = clean_data(rnd_data)\n",
    "renewable_data = pd.read_csv('Datasets/Renewable_Consumption-By_Country.csv')\n",
    "renewable_data = clean_data(renewable_data)"
   ]
  },
  {
   "cell_type": "code",
   "execution_count": 135,
   "metadata": {},
   "outputs": [],
   "source": [
    "rnd_cols = list(rnd_data.columns)[2:]\n",
    "renewable_cols = list(renewable_data.columns)\n",
    "rnd_data = rnd_data[rnd_cols]\n",
    "renewable_data = renewable_data[renewable_cols]"
   ]
  },
  {
   "cell_type": "code",
   "execution_count": 136,
   "metadata": {},
   "outputs": [],
   "source": [
    "rnd_list = rnd_data.loc[\"EU\"].values\n",
    "rnd_list = rnd_list.reshape(-1, 1)\n",
    "rene_list = renewable_data.loc[\"EU\"].values\n",
    "rene_list = rene_list.astype(np.float)\n",
    "rene_list = rene_list.reshape(-1, 1)"
   ]
  },
  {
   "cell_type": "code",
   "execution_count": 137,
   "metadata": {},
   "outputs": [],
   "source": [
    "X_train, X_test, y_train, y_test = train_test_split(rnd_list, rene_list, test_size=0.40)"
   ]
  },
  {
   "cell_type": "code",
   "execution_count": 138,
   "metadata": {},
   "outputs": [],
   "source": [
    "model = linear_model.LinearRegression()\n",
    "model.fit(X_train, y_train)\n",
    "prediction = model.predict(X_test)"
   ]
  },
  {
   "cell_type": "code",
   "execution_count": 139,
   "metadata": {},
   "outputs": [
    {
     "data": {
      "text/html": [
       "<iframe id=\"igraph\" scrolling=\"no\" style=\"border:none;\" seamless=\"seamless\" src=\"https://plot.ly/~Vmunt12/4.embed\" height=\"525px\" width=\"100%\"></iframe>"
      ],
      "text/plain": [
       "<plotly.tools.PlotlyDisplay object>"
      ]
     },
     "execution_count": 139,
     "metadata": {},
     "output_type": "execute_result"
    }
   ],
   "source": [
    "trace1 = go.Scatter(\n",
    "                x = X_test,\n",
    "                y = y_test,\n",
    "                mode='markers',\n",
    "                name = '{} - Test Values'.format(\"EU\"))\n",
    "        \n",
    "trace2 = go.Scatter(\n",
    "                x = X_test,\n",
    "                y = prediction,\n",
    "                mode='lines',\n",
    "                name = '{} - Predictions'.format(\"EU\"))\n",
    "\n",
    "    \n",
    "data = [trace1, trace2]\n",
    "layout = go.Layout(title ='Predicted future Renewable Energy Consumption - EU', \n",
    "                   xaxis=dict(title=\"Renewable Energy Consumption\"),\n",
    "                   yaxis=dict(title=\"Research & Development share of GDP\"))\n",
    "\n",
    "fig = dict(data=data, layout=layout)\n",
    "py.iplot(fig, validate=False)"
   ]
  }
 ],
 "metadata": {
  "kernelspec": {
   "display_name": "Python 3",
   "language": "python",
   "name": "python3"
  },
  "language_info": {
   "codemirror_mode": {
    "name": "ipython",
    "version": 3
   },
   "file_extension": ".py",
   "mimetype": "text/x-python",
   "name": "python",
   "nbconvert_exporter": "python",
   "pygments_lexer": "ipython3",
   "version": "3.6.3"
  }
 },
 "nbformat": 4,
 "nbformat_minor": 2
}
